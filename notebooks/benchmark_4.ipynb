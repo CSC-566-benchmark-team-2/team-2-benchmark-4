{
 "cells": [
  {
   "cell_type": "code",
   "execution_count": null,
   "metadata": {},
   "outputs": [],
   "source": [
    "%load_ext autoreload\n",
    "%autoreload 2\n",
    "import numpy as np\n",
    "import pandas as pd\n",
    "import torch\n",
    "from torch.nn import BCELoss, CrossEntropyLoss\n",
    "\n",
    "import sys\n",
    "sys.path.insert(0,'..')\n",
    "from src.lstm import RPS_LSTM\n",
    "\n",
    "DATA_PATH = '../data/'\n",
    "import torch.nn as nn"
   ]
  },
  {
   "cell_type": "code",
   "execution_count": null,
   "metadata": {},
   "outputs": [],
   "source": [
    "rnn = nn.LSTM(10, 20, 2)\n",
    "input = torch.randn(5, 3, 10)\n",
    "h0 = torch.randn(2, 3, 20)\n",
    "c0 = torch.randn(2, 3, 20)\n",
    "output, (hn, cn) = rnn(input, (h0, c0))\n"
   ]
  },
  {
   "cell_type": "code",
   "execution_count": null,
   "metadata": {},
   "outputs": [],
   "source": [
    "output.shape"
   ]
  },
  {
   "cell_type": "code",
   "execution_count": null,
   "metadata": {},
   "outputs": [],
   "source": [
    "class RNN(nn.Module):\n",
    "    def __init__(self):\n",
    "        super(RNN, self).__init__()\n",
    "        self.hidden_size = 64\n",
    "        self.input_size = 3\n",
    "        self.lstm = nn.LSTM(input_size=self.input_size, hidden_size=self.hidden_size, num_layers=1, batch_first=True)\n",
    "        self.linear = nn.Linear(self.hidden_size, 1)\n",
    "\n",
    "    def forward(self, x):\n",
    "        # x has shape (batch_size, sequence_length, input_size)\n",
    "        batch_size = x.size(0)\n",
    "        h0 = torch.zeros(1, batch_size, self.hidden_size)\n",
    "        c0 = torch.zeros(1, batch_size, self.hidden_size)\n",
    "        out, _ = self.lstm(x, (h0, c0))\n",
    "        out = self.linear(out[:, -1, :])\n",
    "        return out.squeeze()\n"
   ]
  },
  {
   "cell_type": "code",
   "execution_count": null,
   "metadata": {},
   "outputs": [],
   "source": [
    "model = RNN()\n",
    "\n",
    "# Generate example input tensor\n",
    "input_tensor = torch.randn(32, 20, 3)\n",
    "\n",
    "# Pass input tensor through model to get predictions\n",
    "predictions = model(input_tensor)\n",
    "predictions.shape"
   ]
  },
  {
   "cell_type": "code",
   "execution_count": null,
   "metadata": {},
   "outputs": [],
   "source": []
  },
  {
   "attachments": {},
   "cell_type": "markdown",
   "metadata": {},
   "source": [
    "## Testing a basic LSTM implementation"
   ]
  },
  {
   "cell_type": "code",
   "execution_count": null,
   "metadata": {},
   "outputs": [],
   "source": [
    "def data_to_num(df):\n",
    "\n",
    "    agent_choice_dict = {\"Paper\": 0, \"Rock\": 1, \"Scissors\": 2}\n",
    "    result_dict = {\"W\": 1, \"L\": -1, \"D\": 0}\n",
    "\n",
    "    df[\"agents_choice\"] = df[\"agents_choice\"].apply(lambda x: agent_choice_dict[x])\n",
    "    df[\"result\"] = df[\"result\"].apply(lambda x: result_dict[x])\n",
    "\n",
    "    return df"
   ]
  },
  {
   "cell_type": "code",
   "execution_count": null,
   "metadata": {},
   "outputs": [],
   "source": [
    "# data = torch.Tensor()\n",
    "# t = torch.Tensor()\n",
    "\n",
    "\n",
    "agent1_df = pd.read_csv(DATA_PATH + 'agent1_df.csv', index_col=0)\n",
    "agent2_df = pd.read_csv(DATA_PATH + 'agent2_df.csv',index_col=0)\n",
    "agent3_df = pd.read_csv(DATA_PATH + 'agent3_df.csv',index_col=0)\n",
    "\n",
    "print(\"Data before conversion:\")\n",
    "display(agent1_df.head(5))\n",
    "\n",
    "agent1_df = data_to_num(agent1_df)\n",
    "agent2_df = data_to_num(agent2_df)\n",
    "agent3_df = data_to_num(agent3_df)\n",
    "\n",
    "target1 = agent1_df.pop('result')\n",
    "target2 = agent2_df.pop('result')\n",
    "target3 = agent3_df.pop('result')\n",
    "\n",
    "print(\"Data after conversion:\")\n",
    "display(agent1_df.head(5))\n",
    "\n",
    "print(\"Target after conversion:\")\n",
    "display(target1.head(5))"
   ]
  },
  {
   "cell_type": "code",
   "execution_count": null,
   "metadata": {},
   "outputs": [],
   "source": [
    "def get_sequences(df, seq_len=5):\n",
    "\n",
    "    data = df.values # agent_choice\n",
    "    \n",
    "    data = np.array(data) == np.arange(3)\n",
    "\n",
    "    input_seq = []\n",
    "    target_seq = []\n",
    "\n",
    "    for i in range(len(data) - seq_len):\n",
    "        input_seq.append(data[i:i+seq_len])\n",
    "        target_seq.append(data[i+seq_len, 0])\n",
    "\n",
    "    return np.array(input_seq), np.array(target_seq)\n",
    "\n",
    "input_seq, target_seq = get_sequences(agent1_df, seq_len=5)\n",
    "print(\"Training Sequences: 1995, Window Size: 5, Number of Features: 1\")\n",
    "print(f\"Input data shape: {input_seq.shape}\")\n",
    "print(f\"Target data shape: {target_seq.shape}\")\n",
    "display(input_seq[:3], target_seq)"
   ]
  },
  {
   "cell_type": "code",
   "execution_count": null,
   "metadata": {},
   "outputs": [],
   "source": [
    "# num columns in dataset\n",
    "input_size = 3\n",
    "# num hidden layers\n",
    "hidden_size = 10\n",
    "# rock, paper, scissors\n",
    "output_size = 3\n",
    "\n",
    "model = RNN()\n",
    "[\"r\", \"p\", \"s\"]\n",
    "criterion = CrossEntropyLoss()\n",
    "optimizer = torch.optim.Adam(model.parameters(), lr=0.001)"
   ]
  },
  {
   "cell_type": "code",
   "execution_count": null,
   "metadata": {},
   "outputs": [],
   "source": [
    "type(input_seq)"
   ]
  },
  {
   "cell_type": "code",
   "execution_count": null,
   "metadata": {},
   "outputs": [],
   "source": [
    "epochs = 100\n",
    "data = torch.from_numpy(input_seq.astype(\"float32\"))\n",
    "t = torch.from_numpy(target_seq.astype(\"float32\"))\n",
    "batch_size = 64\n",
    "num_baches = len(input_seq) // batch_size\n",
    "\n",
    "for epoch in range(epochs):\n",
    "    running_loss = 0\n",
    "    for i in range(num_baches):\n",
    "        inputs, targets = data[i*batch_size: (i+1)*batch_size], t[i*batch_size: (i+1)*batch_size]\n",
    "        optimizer.zero_grad()\n",
    "        output = model(inputs)\n",
    "        loss = criterion(output, targets)\n",
    "        loss.backward()\n",
    "        optimizer.step()\n",
    "        running_loss += loss.item()\n",
    "    print(f\"Epoch: {epoch}, Loss: {running_loss/num_baches}\")"
   ]
  },
  {
   "cell_type": "code",
   "execution_count": null,
   "metadata": {},
   "outputs": [],
   "source": [
    "rnn = nn.LSTM(10, 20, 2)\n",
    "input = torch.randn(5, 3, 10)\n",
    "h0 = torch.randn(2, 3, 20)\n",
    "c0 = torch.randn(2, 3, 20)\n",
    "output, (hn, cn) = rnn(input, (h0, c0))\n",
    "\n",
    "print(output.shape)"
   ]
  }
 ],
 "metadata": {
  "kernelspec": {
   "display_name": ".venv",
   "language": "python",
   "name": "python3"
  },
  "language_info": {
   "codemirror_mode": {
    "name": "ipython",
    "version": 3
   },
   "file_extension": ".py",
   "mimetype": "text/x-python",
   "name": "python",
   "nbconvert_exporter": "python",
   "pygments_lexer": "ipython3",
   "version": "3.9.15"
  },
  "orig_nbformat": 4
 },
 "nbformat": 4,
 "nbformat_minor": 2
}
